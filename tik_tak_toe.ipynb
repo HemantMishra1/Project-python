{
  "nbformat": 4,
  "nbformat_minor": 0,
  "metadata": {
    "colab": {
      "name": "tik tak toe.ipynb",
      "provenance": []
    },
    "kernelspec": {
      "name": "python3",
      "display_name": "Python 3"
    }
  },
  "cells": [
    {
      "cell_type": "markdown",
      "metadata": {
        "id": "Y8oiGGvLhMCm",
        "colab_type": "text"
      },
      "source": [
        "### What we are going to do?\n",
        "We are going to build a two-player tic-tac-toe game, which we can play in the command-line. Initially, we’ll make an empty game board and then we’ll take inputs from the players and we’ll check for the winning condition and if the whole board gets filled and no one wins, we’ll declare the result as “Tie” and ask users if they want to restart the game."
      ]
    },
    {
      "cell_type": "markdown",
      "metadata": {
        "id": "c98lQRyChmCI",
        "colab_type": "text"
      },
      "source": [
        "### What will we use?\n",
        "We will build this game using Python 3."
      ]
    },
    {
      "cell_type": "markdown",
      "metadata": {
        "id": "goenDzyFiD6e",
        "colab_type": "text"
      },
      "source": [
        "###What we’ll learn?\n",
        "After building this game, we can get a pretty clear idea about dictionaries in python, how to access dictionaries, how to iterate over dictionaries, for loop, if-else conditions and functions in python."
      ]
    },
    {
      "cell_type": "markdown",
      "metadata": {
        "id": "g8uRZS2oiXkf",
        "colab_type": "text"
      },
      "source": [
        "###How does the game work?\n",
        "The board is numbered like the keyboard’s number pad. And thus, a player can make their move in the game board by entering the number from the keyboard number pad."
      ]
    },
    {
      "cell_type": "markdown",
      "metadata": {
        "id": "CqLzxYJJioD_",
        "colab_type": "text"
      },
      "source": [
        "First, let’s see how we are going to use a dictionary to create our game board. A dictionary is a primitive data type in python which stores data in “key: value” format. and thus, we’ll create a dictionary of length 9 and each key will represent a block in the board and its corresponding value will represent the move made by a player. and we’ll create a function printBoard() which we can use every time we want to print the updated board in the game"
      ]
    },
    {
      "cell_type": "code",
      "metadata": {
        "id": "a5y1-nqlhYyf",
        "colab_type": "code",
        "colab": {}
      },
      "source": [
        "theboard={'7':' ','8':' ','9':' ',\n",
        "        '4':' ','5':' ','6':' ',\n",
        "        '1':' ','2':' ','3':' '}\n",
        "\n",
        "def printboard(board):\n",
        "  print(board['7'] + '|' + board['8'] + '|' + board['9'])\n",
        "  print('-+-+-')\n",
        "  print(board['4'] + '|' + board['5'] + '|' + board['6'])\n",
        "  print('-+-+-')\n",
        "  print(board['1'] + '|' + board['2'] + '|' + board['3'])\n"
      ],
      "execution_count": 19,
      "outputs": []
    },
    {
      "cell_type": "markdown",
      "metadata": {
        "id": "uWSnZUPqk6qZ",
        "colab_type": "text"
      },
      "source": [
        "Intailly the board will look like this "
      ]
    },
    {
      "cell_type": "code",
      "metadata": {
        "id": "MU10jFd2kgA6",
        "colab_type": "code",
        "colab": {
          "base_uri": "https://localhost:8080/",
          "height": 102
        },
        "outputId": "6e90de67-527a-484c-bc77-cd1c8bff2838"
      },
      "source": [
        "printboard(theboard)"
      ],
      "execution_count": 20,
      "outputs": [
        {
          "output_type": "stream",
          "text": [
            " | | \n",
            "-+-+-\n",
            " | | \n",
            "-+-+-\n",
            " | | \n"
          ],
          "name": "stdout"
        }
      ]
    },
    {
      "cell_type": "markdown",
      "metadata": {
        "id": "71lhCbfSlVO9",
        "colab_type": "text"
      },
      "source": [
        "Now, in the main function, we’ll first take the input from the player and check if the input is a valid move or not. If the block that player requests to move to is valid, we’ll fill that block else we’ll ask the user to choose another block."
      ]
    },
    {
      "cell_type": "code",
      "metadata": {
        "id": "LP_L_Svjkoqx",
        "colab_type": "code",
        "colab": {}
      },
      "source": [
        "def game():\n",
        "  turn = 'X'\n",
        "  count = 0\n",
        "\n",
        "  for i in range(10):\n",
        "    printboard(theboard)\n",
        "    print('its your turn ' + turn + ' Move to which place?')\n",
        "\n",
        "    move=input()\n",
        "\n",
        "    if theboard[move]==' ':\n",
        "      theboard[move]=turn \n",
        "      count+=1\n",
        "    else:\n",
        "      print(\"That place is already filled.\\n Movw to which place?\")\n",
        "      continue  \n",
        "    if count>=5:\n",
        "        if(theboard['7']==theboard['8']==theboard['9']!=' '):\n",
        "          printboard(theboard)\n",
        "          print(\"\\nGame Over.\\n\")\n",
        "          print(\"****\" + turn + \"Won. ****\")\n",
        "          break\n",
        "        elif(theboard['6']==theboard['5']==theboard['4']!=' '):\n",
        "          printboard(theboard)\n",
        "          print(\"\\nGame Over.\\n\")\n",
        "          print(\"****\" + turn + \"Won. ****\")\n",
        "          break\n",
        "        elif(theboard['1']==theboard['2']==theboard['3']!=' '):\n",
        "          printboard(theboard)\n",
        "          print(\"\\nGame Over.\\n\")\n",
        "          print(\"****\" + turn + \"Won. ****\")\n",
        "          break\n",
        "        elif(theboard['1']==theboard['4']==theboard['7']!=' '):\n",
        "          printboard(theboard)\n",
        "          print(\"\\nGame Over.\\n\")\n",
        "          print(\"****\" + turn + \"Won. ****\")\n",
        "          break\n",
        "        elif(theboard['2']==theboard['5']==theboard['8']!=' '):\n",
        "          printboard(theboard)\n",
        "          print(\"\\nGame Over.\\n\")\n",
        "          print(\"****\" + turn + \"Won. ****\")\n",
        "          break \n",
        "        elif(theboard['3']==theboard['6']==theboard['9']!=' '):\n",
        "          printboard(theboard)\n",
        "          print(\"\\nGame Over.\\n\")\n",
        "          print(\"****\" + turn + \"Won. ****\")\n",
        "          break\n",
        "        elif(theboard['7']==theboard['5']==theboard['3']!=' '):\n",
        "          printboard(theboard)\n",
        "          print(\"\\nGame Over.\\n\")\n",
        "          print(\"****\" + turn + \"Won. ****\")\n",
        "          break\n",
        "        elif(theboard['1']==theboard['5']==theboard['9']!=' '):\n",
        "          printboard(theboard)\n",
        "          print(\"\\nGame Over.\\n\")\n",
        "          print(\"****\" + turn + \"Won. ****\")\n",
        "          break   \n",
        "\n",
        "    if count==9:\n",
        "      print(\"\\nGame Over.\\n\")\n",
        "      print(\"\\it's a tie\\n\")\n",
        "    if turn=='X':\n",
        "      turn='O'\n",
        "    else:\n",
        "      turn = 'X'\n",
        "    "
      ],
      "execution_count": 40,
      "outputs": []
    },
    {
      "cell_type": "markdown",
      "metadata": {
        "id": "2FvKicE7nFMQ",
        "colab_type": "text"
      },
      "source": [
        "Now, to check the winning condition, we’ll check a total of 8 conditions and whichever player has made the last move, we’ll declare that player as a winner. And if no one wins, we’ll declare ‘tie’"
      ]
    },
    {
      "cell_type": "markdown",
      "metadata": {
        "id": "At4R-KmkqBKi",
        "colab_type": "text"
      },
      "source": [
        "And now, we’ll ask the players if they want to play again."
      ]
    },
    {
      "cell_type": "code",
      "metadata": {
        "id": "yXFW3jhYqCKY",
        "colab_type": "code",
        "colab": {
          "base_uri": "https://localhost:8080/",
          "height": 843
        },
        "outputId": "2c6cd90b-7805-42d7-df06-fc0d9aca7236"
      },
      "source": [
        "board_keys=[]\n",
        "\n",
        "for key in theboard:\n",
        "  board_keys.append(key)\n",
        "\n",
        "restart=input(\"Do you want to play again?(y/n)\")\n",
        "\n",
        "if restart=='y' or restart=='Y':\n",
        "  for key in board_keys:\n",
        "    theboard[key]=\" \"\n",
        "  \n",
        "    \n",
        "  game()    \n"
      ],
      "execution_count": 42,
      "outputs": [
        {
          "output_type": "stream",
          "text": [
            "Do you want to play again?(y/n)y\n",
            " | | \n",
            "-+-+-\n",
            " |X|O\n",
            "-+-+-\n",
            " |O| \n",
            "its your turn X Move to which place?\n",
            "1\n",
            " | | \n",
            "-+-+-\n",
            " |X|O\n",
            "-+-+-\n",
            "X|O| \n",
            "its your turn O Move to which place?\n",
            "4\n",
            " | | \n",
            "-+-+-\n",
            "O|X|O\n",
            "-+-+-\n",
            "X|O| \n",
            "its your turn X Move to which place?\n",
            "5\n",
            "That place is already filled.\n",
            " Movw to which place?\n",
            " | | \n",
            "-+-+-\n",
            "O|X|O\n",
            "-+-+-\n",
            "X|O| \n",
            "its your turn X Move to which place?\n",
            "\n"
          ],
          "name": "stdout"
        },
        {
          "output_type": "error",
          "ename": "KeyError",
          "evalue": "ignored",
          "traceback": [
            "\u001b[0;31m---------------------------------------------------------------------------\u001b[0m",
            "\u001b[0;31mKeyError\u001b[0m                                  Traceback (most recent call last)",
            "\u001b[0;32m<ipython-input-42-da9e39e1597c>\u001b[0m in \u001b[0;36m<module>\u001b[0;34m()\u001b[0m\n\u001b[1;32m     10\u001b[0m     \u001b[0mtheboard\u001b[0m\u001b[0;34m[\u001b[0m\u001b[0mkey\u001b[0m\u001b[0;34m]\u001b[0m\u001b[0;34m=\u001b[0m\u001b[0;34m\" \"\u001b[0m\u001b[0;34m\u001b[0m\u001b[0;34m\u001b[0m\u001b[0m\n\u001b[1;32m     11\u001b[0m \u001b[0;34m\u001b[0m\u001b[0m\n\u001b[0;32m---> 12\u001b[0;31m     \u001b[0mgame\u001b[0m\u001b[0;34m(\u001b[0m\u001b[0;34m)\u001b[0m\u001b[0;34m\u001b[0m\u001b[0;34m\u001b[0m\u001b[0m\n\u001b[0m",
            "\u001b[0;32m<ipython-input-40-1ed4ca23b038>\u001b[0m in \u001b[0;36mgame\u001b[0;34m()\u001b[0m\n\u001b[1;32m      9\u001b[0m     \u001b[0mmove\u001b[0m\u001b[0;34m=\u001b[0m\u001b[0minput\u001b[0m\u001b[0;34m(\u001b[0m\u001b[0;34m)\u001b[0m\u001b[0;34m\u001b[0m\u001b[0;34m\u001b[0m\u001b[0m\n\u001b[1;32m     10\u001b[0m \u001b[0;34m\u001b[0m\u001b[0m\n\u001b[0;32m---> 11\u001b[0;31m     \u001b[0;32mif\u001b[0m \u001b[0mtheboard\u001b[0m\u001b[0;34m[\u001b[0m\u001b[0mmove\u001b[0m\u001b[0;34m]\u001b[0m\u001b[0;34m==\u001b[0m\u001b[0;34m' '\u001b[0m\u001b[0;34m:\u001b[0m\u001b[0;34m\u001b[0m\u001b[0;34m\u001b[0m\u001b[0m\n\u001b[0m\u001b[1;32m     12\u001b[0m       \u001b[0mtheboard\u001b[0m\u001b[0;34m[\u001b[0m\u001b[0mmove\u001b[0m\u001b[0;34m]\u001b[0m\u001b[0;34m=\u001b[0m\u001b[0mturn\u001b[0m\u001b[0;34m\u001b[0m\u001b[0;34m\u001b[0m\u001b[0m\n\u001b[1;32m     13\u001b[0m       \u001b[0mcount\u001b[0m\u001b[0;34m+=\u001b[0m\u001b[0;36m1\u001b[0m\u001b[0;34m\u001b[0m\u001b[0;34m\u001b[0m\u001b[0m\n",
            "\u001b[0;31mKeyError\u001b[0m: ''"
          ]
        }
      ]
    },
    {
      "cell_type": "code",
      "metadata": {
        "id": "W9J63w3MrZvD",
        "colab_type": "code",
        "colab": {}
      },
      "source": [
        ""
      ],
      "execution_count": 23,
      "outputs": []
    },
    {
      "cell_type": "code",
      "metadata": {
        "id": "XwA0n0bJr6hx",
        "colab_type": "code",
        "colab": {}
      },
      "source": [
        ""
      ],
      "execution_count": null,
      "outputs": []
    }
  ]
}